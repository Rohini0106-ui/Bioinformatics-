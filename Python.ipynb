{
  "nbformat": 4,
  "nbformat_minor": 0,
  "metadata": {
    "colab": {
      "provenance": [],
      "authorship_tag": "ABX9TyPt0bpDmWDdMGmqlh5hrfdr",
      "include_colab_link": true
    },
    "kernelspec": {
      "name": "python3",
      "display_name": "Python 3"
    },
    "language_info": {
      "name": "python"
    }
  },
  "cells": [
    {
      "cell_type": "markdown",
      "metadata": {
        "id": "view-in-github",
        "colab_type": "text"
      },
      "source": [
        "<a href=\"https://colab.research.google.com/github/Rohini0106-ui/Bioinformatics-/blob/main/Python.ipynb\" target=\"_parent\"><img src=\"https://colab.research.google.com/assets/colab-badge.svg\" alt=\"Open In Colab\"/></a>"
      ]
    },
    {
      "cell_type": "code",
      "source": [
        "from google.colab import files\n",
        "\n",
        "uploaded = files.upload()\n"
      ],
      "metadata": {
        "colab": {
          "base_uri": "https://localhost:8080/",
          "height": 73
        },
        "id": "5C4O5gP4sjxT",
        "outputId": "b32a9a03-694b-4c75-e72a-7b20b04a596b"
      },
      "execution_count": null,
      "outputs": [
        {
          "output_type": "display_data",
          "data": {
            "text/plain": [
              "<IPython.core.display.HTML object>"
            ],
            "text/html": [
              "\n",
              "     <input type=\"file\" id=\"files-e18c0ec5-4ba9-43d9-a537-a12a5c8197a1\" name=\"files[]\" multiple disabled\n",
              "        style=\"border:none\" />\n",
              "     <output id=\"result-e18c0ec5-4ba9-43d9-a537-a12a5c8197a1\">\n",
              "      Upload widget is only available when the cell has been executed in the\n",
              "      current browser session. Please rerun this cell to enable.\n",
              "      </output>\n",
              "      <script>// Copyright 2017 Google LLC\n",
              "//\n",
              "// Licensed under the Apache License, Version 2.0 (the \"License\");\n",
              "// you may not use this file except in compliance with the License.\n",
              "// You may obtain a copy of the License at\n",
              "//\n",
              "//      http://www.apache.org/licenses/LICENSE-2.0\n",
              "//\n",
              "// Unless required by applicable law or agreed to in writing, software\n",
              "// distributed under the License is distributed on an \"AS IS\" BASIS,\n",
              "// WITHOUT WARRANTIES OR CONDITIONS OF ANY KIND, either express or implied.\n",
              "// See the License for the specific language governing permissions and\n",
              "// limitations under the License.\n",
              "\n",
              "/**\n",
              " * @fileoverview Helpers for google.colab Python module.\n",
              " */\n",
              "(function(scope) {\n",
              "function span(text, styleAttributes = {}) {\n",
              "  const element = document.createElement('span');\n",
              "  element.textContent = text;\n",
              "  for (const key of Object.keys(styleAttributes)) {\n",
              "    element.style[key] = styleAttributes[key];\n",
              "  }\n",
              "  return element;\n",
              "}\n",
              "\n",
              "// Max number of bytes which will be uploaded at a time.\n",
              "const MAX_PAYLOAD_SIZE = 100 * 1024;\n",
              "\n",
              "function _uploadFiles(inputId, outputId) {\n",
              "  const steps = uploadFilesStep(inputId, outputId);\n",
              "  const outputElement = document.getElementById(outputId);\n",
              "  // Cache steps on the outputElement to make it available for the next call\n",
              "  // to uploadFilesContinue from Python.\n",
              "  outputElement.steps = steps;\n",
              "\n",
              "  return _uploadFilesContinue(outputId);\n",
              "}\n",
              "\n",
              "// This is roughly an async generator (not supported in the browser yet),\n",
              "// where there are multiple asynchronous steps and the Python side is going\n",
              "// to poll for completion of each step.\n",
              "// This uses a Promise to block the python side on completion of each step,\n",
              "// then passes the result of the previous step as the input to the next step.\n",
              "function _uploadFilesContinue(outputId) {\n",
              "  const outputElement = document.getElementById(outputId);\n",
              "  const steps = outputElement.steps;\n",
              "\n",
              "  const next = steps.next(outputElement.lastPromiseValue);\n",
              "  return Promise.resolve(next.value.promise).then((value) => {\n",
              "    // Cache the last promise value to make it available to the next\n",
              "    // step of the generator.\n",
              "    outputElement.lastPromiseValue = value;\n",
              "    return next.value.response;\n",
              "  });\n",
              "}\n",
              "\n",
              "/**\n",
              " * Generator function which is called between each async step of the upload\n",
              " * process.\n",
              " * @param {string} inputId Element ID of the input file picker element.\n",
              " * @param {string} outputId Element ID of the output display.\n",
              " * @return {!Iterable<!Object>} Iterable of next steps.\n",
              " */\n",
              "function* uploadFilesStep(inputId, outputId) {\n",
              "  const inputElement = document.getElementById(inputId);\n",
              "  inputElement.disabled = false;\n",
              "\n",
              "  const outputElement = document.getElementById(outputId);\n",
              "  outputElement.innerHTML = '';\n",
              "\n",
              "  const pickedPromise = new Promise((resolve) => {\n",
              "    inputElement.addEventListener('change', (e) => {\n",
              "      resolve(e.target.files);\n",
              "    });\n",
              "  });\n",
              "\n",
              "  const cancel = document.createElement('button');\n",
              "  inputElement.parentElement.appendChild(cancel);\n",
              "  cancel.textContent = 'Cancel upload';\n",
              "  const cancelPromise = new Promise((resolve) => {\n",
              "    cancel.onclick = () => {\n",
              "      resolve(null);\n",
              "    };\n",
              "  });\n",
              "\n",
              "  // Wait for the user to pick the files.\n",
              "  const files = yield {\n",
              "    promise: Promise.race([pickedPromise, cancelPromise]),\n",
              "    response: {\n",
              "      action: 'starting',\n",
              "    }\n",
              "  };\n",
              "\n",
              "  cancel.remove();\n",
              "\n",
              "  // Disable the input element since further picks are not allowed.\n",
              "  inputElement.disabled = true;\n",
              "\n",
              "  if (!files) {\n",
              "    return {\n",
              "      response: {\n",
              "        action: 'complete',\n",
              "      }\n",
              "    };\n",
              "  }\n",
              "\n",
              "  for (const file of files) {\n",
              "    const li = document.createElement('li');\n",
              "    li.append(span(file.name, {fontWeight: 'bold'}));\n",
              "    li.append(span(\n",
              "        `(${file.type || 'n/a'}) - ${file.size} bytes, ` +\n",
              "        `last modified: ${\n",
              "            file.lastModifiedDate ? file.lastModifiedDate.toLocaleDateString() :\n",
              "                                    'n/a'} - `));\n",
              "    const percent = span('0% done');\n",
              "    li.appendChild(percent);\n",
              "\n",
              "    outputElement.appendChild(li);\n",
              "\n",
              "    const fileDataPromise = new Promise((resolve) => {\n",
              "      const reader = new FileReader();\n",
              "      reader.onload = (e) => {\n",
              "        resolve(e.target.result);\n",
              "      };\n",
              "      reader.readAsArrayBuffer(file);\n",
              "    });\n",
              "    // Wait for the data to be ready.\n",
              "    let fileData = yield {\n",
              "      promise: fileDataPromise,\n",
              "      response: {\n",
              "        action: 'continue',\n",
              "      }\n",
              "    };\n",
              "\n",
              "    // Use a chunked sending to avoid message size limits. See b/62115660.\n",
              "    let position = 0;\n",
              "    do {\n",
              "      const length = Math.min(fileData.byteLength - position, MAX_PAYLOAD_SIZE);\n",
              "      const chunk = new Uint8Array(fileData, position, length);\n",
              "      position += length;\n",
              "\n",
              "      const base64 = btoa(String.fromCharCode.apply(null, chunk));\n",
              "      yield {\n",
              "        response: {\n",
              "          action: 'append',\n",
              "          file: file.name,\n",
              "          data: base64,\n",
              "        },\n",
              "      };\n",
              "\n",
              "      let percentDone = fileData.byteLength === 0 ?\n",
              "          100 :\n",
              "          Math.round((position / fileData.byteLength) * 100);\n",
              "      percent.textContent = `${percentDone}% done`;\n",
              "\n",
              "    } while (position < fileData.byteLength);\n",
              "  }\n",
              "\n",
              "  // All done.\n",
              "  yield {\n",
              "    response: {\n",
              "      action: 'complete',\n",
              "    }\n",
              "  };\n",
              "}\n",
              "\n",
              "scope.google = scope.google || {};\n",
              "scope.google.colab = scope.google.colab || {};\n",
              "scope.google.colab._files = {\n",
              "  _uploadFiles,\n",
              "  _uploadFilesContinue,\n",
              "};\n",
              "})(self);\n",
              "</script> "
            ]
          },
          "metadata": {}
        },
        {
          "output_type": "stream",
          "name": "stdout",
          "text": [
            "Saving genelist.txt to genelist (1).txt\n"
          ]
        }
      ]
    },
    {
      "cell_type": "code",
      "source": [
        "uploaded.keys()\n",
        "\n"
      ],
      "metadata": {
        "colab": {
          "base_uri": "https://localhost:8080/"
        },
        "id": "CP4tyHTVtkOo",
        "outputId": "d09450f5-7b01-4423-d844-03b59f8b820a"
      },
      "execution_count": null,
      "outputs": [
        {
          "output_type": "execute_result",
          "data": {
            "text/plain": [
              "dict_keys(['genelist (1).txt'])"
            ]
          },
          "metadata": {},
          "execution_count": 16
        }
      ]
    },
    {
      "cell_type": "code",
      "source": [
        "import pandas as pd\n",
        "\n",
        "# Use the uploaded filename\n",
        "input_file = \"genelist (1).txt\"\n",
        "\n",
        "try:\n",
        "    df = pd.read_csv(input_file, sep=r\"\\s+\", engine=\"python\")\n",
        "    print(\" File read successfully!\")\n",
        "    print(df.head())\n",
        "except Exception as e:\n",
        "    print(\" An error occurred:\", str(e))\n"
      ],
      "metadata": {
        "colab": {
          "base_uri": "https://localhost:8080/"
        },
        "id": "_fbFtUUxtwN6",
        "outputId": "c441744c-24d1-4099-e5f4-7aecc10cb581"
      },
      "execution_count": null,
      "outputs": [
        {
          "output_type": "stream",
          "name": "stdout",
          "text": [
            " File read successfully!\n",
            "    Gene Tissue  Condition  Exp1  Exp2  Exp3\n",
            "0  GeneA  Liver    Control   5.3   4.1   6.2\n",
            "1  GeneB  Heart    Control   7.8   5.4   6.9\n",
            "2  GeneC  Brain  Treatment   6.1   8.5   9.0\n",
            "3  GeneD  Liver  Treatment   4.9   3.6   5.7\n",
            "4  GeneE  Heart    Control   7.3   6.8   8.1\n"
          ]
        }
      ]
    },
    {
      "cell_type": "code",
      "source": [
        "# Ask user for filename\n",
        "output_file = input(\"Enter output CSV filename (e.g., results.csv): \").strip()\n",
        "\n",
        "if not output_file.endswith(\".csv\"):\n",
        "    output_file += \".csv\"\n",
        "\n",
        "df.to_csv(output_file, index=False)\n",
        "print(f\" Data written to {output_file}\")\n",
        "\n",
        "from google.colab import files\n",
        "files.download(output_file)\n"
      ],
      "metadata": {
        "colab": {
          "base_uri": "https://localhost:8080/",
          "height": 52
        },
        "id": "-oH0F3Emt8d9",
        "outputId": "ff065f2c-6a51-4e25-e8e6-cdfe3802f859"
      },
      "execution_count": null,
      "outputs": [
        {
          "output_type": "stream",
          "name": "stdout",
          "text": [
            "Enter output CSV filename (e.g., results.csv): genelist.csv\n",
            " Data written to genelist.csv\n"
          ]
        },
        {
          "output_type": "display_data",
          "data": {
            "text/plain": [
              "<IPython.core.display.Javascript object>"
            ],
            "application/javascript": [
              "\n",
              "    async function download(id, filename, size) {\n",
              "      if (!google.colab.kernel.accessAllowed) {\n",
              "        return;\n",
              "      }\n",
              "      const div = document.createElement('div');\n",
              "      const label = document.createElement('label');\n",
              "      label.textContent = `Downloading \"${filename}\": `;\n",
              "      div.appendChild(label);\n",
              "      const progress = document.createElement('progress');\n",
              "      progress.max = size;\n",
              "      div.appendChild(progress);\n",
              "      document.body.appendChild(div);\n",
              "\n",
              "      const buffers = [];\n",
              "      let downloaded = 0;\n",
              "\n",
              "      const channel = await google.colab.kernel.comms.open(id);\n",
              "      // Send a message to notify the kernel that we're ready.\n",
              "      channel.send({})\n",
              "\n",
              "      for await (const message of channel.messages) {\n",
              "        // Send a message to notify the kernel that we're ready.\n",
              "        channel.send({})\n",
              "        if (message.buffers) {\n",
              "          for (const buffer of message.buffers) {\n",
              "            buffers.push(buffer);\n",
              "            downloaded += buffer.byteLength;\n",
              "            progress.value = downloaded;\n",
              "          }\n",
              "        }\n",
              "      }\n",
              "      const blob = new Blob(buffers, {type: 'application/binary'});\n",
              "      const a = document.createElement('a');\n",
              "      a.href = window.URL.createObjectURL(blob);\n",
              "      a.download = filename;\n",
              "      div.appendChild(a);\n",
              "      a.click();\n",
              "      div.remove();\n",
              "    }\n",
              "  "
            ]
          },
          "metadata": {}
        },
        {
          "output_type": "display_data",
          "data": {
            "text/plain": [
              "<IPython.core.display.Javascript object>"
            ],
            "application/javascript": [
              "download(\"download_dab6a40f-df2d-4054-91af-5b8052bd4441\", \"genelist.csv\", 235)"
            ]
          },
          "metadata": {}
        }
      ]
    },
    {
      "cell_type": "code",
      "source": [
        "import pandas as pd\n",
        "\n",
        "df = pd.read_csv(\"genelist (1).txt\", sep=r\"\\s+\", engine=\"python\")\n",
        "\n",
        "print(\" Original DataFrame:\")\n",
        "print(df)"
      ],
      "metadata": {
        "colab": {
          "base_uri": "https://localhost:8080/"
        },
        "id": "IR4SQ17gxIYw",
        "outputId": "9a672574-d51d-42b1-9b7a-52a6cbe39c8d"
      },
      "execution_count": null,
      "outputs": [
        {
          "output_type": "stream",
          "name": "stdout",
          "text": [
            " Original DataFrame:\n",
            "    Gene Tissue  Condition  Exp1  Exp2  Exp3\n",
            "0  GeneA  Liver    Control   5.3   4.1   6.2\n",
            "1  GeneB  Heart    Control   7.8   5.4   6.9\n",
            "2  GeneC  Brain  Treatment   6.1   8.5   9.0\n",
            "3  GeneD  Liver  Treatment   4.9   3.6   5.7\n",
            "4  GeneE  Heart    Control   7.3   6.8   8.1\n",
            "5  GeneF  Brain  Treatment   5.5   7.9   8.7\n"
          ]
        }
      ]
    },
    {
      "cell_type": "code",
      "source": [
        "#1.Filter\n",
        "Treatment_df = df[df[\"Condition\"]==\"Treatment\"]\n",
        "\n",
        "print(\"\\n Filtred (Treatment samples only):\")\n",
        "print(Treatment_df)"
      ],
      "metadata": {
        "colab": {
          "base_uri": "https://localhost:8080/"
        },
        "id": "_pADr2dMycMJ",
        "outputId": "0a6e198e-836e-43bc-ba5f-ebc15810b578"
      },
      "execution_count": null,
      "outputs": [
        {
          "output_type": "stream",
          "name": "stdout",
          "text": [
            "\n",
            " Filtred (Treatment samples only):\n",
            "    Gene Tissue  Condition  Exp1  Exp2  Exp3\n",
            "2  GeneC  Brain  Treatment   6.1   8.5   9.0\n",
            "3  GeneD  Liver  Treatment   4.9   3.6   5.7\n",
            "5  GeneF  Brain  Treatment   5.5   7.9   8.7\n"
          ]
        }
      ]
    },
    {
      "cell_type": "code",
      "source": [],
      "metadata": {
        "id": "_iomMP7kOKje"
      },
      "execution_count": null,
      "outputs": []
    },
    {
      "cell_type": "code",
      "source": [
        "from google.colab import files\n",
        "\n",
        "uploaded = files.upload()\n"
      ],
      "metadata": {
        "colab": {
          "base_uri": "https://localhost:8080/",
          "height": 73
        },
        "outputId": "435cc3f5-c033-4307-8b8c-3e50b964d9f8",
        "id": "Uj43XBI0P_uT"
      },
      "execution_count": null,
      "outputs": [
        {
          "output_type": "display_data",
          "data": {
            "text/plain": [
              "<IPython.core.display.HTML object>"
            ],
            "text/html": [
              "\n",
              "     <input type=\"file\" id=\"files-18e8c1c8-c9a8-4037-b682-3209b4d28da3\" name=\"files[]\" multiple disabled\n",
              "        style=\"border:none\" />\n",
              "     <output id=\"result-18e8c1c8-c9a8-4037-b682-3209b4d28da3\">\n",
              "      Upload widget is only available when the cell has been executed in the\n",
              "      current browser session. Please rerun this cell to enable.\n",
              "      </output>\n",
              "      <script>// Copyright 2017 Google LLC\n",
              "//\n",
              "// Licensed under the Apache License, Version 2.0 (the \"License\");\n",
              "// you may not use this file except in compliance with the License.\n",
              "// You may obtain a copy of the License at\n",
              "//\n",
              "//      http://www.apache.org/licenses/LICENSE-2.0\n",
              "//\n",
              "// Unless required by applicable law or agreed to in writing, software\n",
              "// distributed under the License is distributed on an \"AS IS\" BASIS,\n",
              "// WITHOUT WARRANTIES OR CONDITIONS OF ANY KIND, either express or implied.\n",
              "// See the License for the specific language governing permissions and\n",
              "// limitations under the License.\n",
              "\n",
              "/**\n",
              " * @fileoverview Helpers for google.colab Python module.\n",
              " */\n",
              "(function(scope) {\n",
              "function span(text, styleAttributes = {}) {\n",
              "  const element = document.createElement('span');\n",
              "  element.textContent = text;\n",
              "  for (const key of Object.keys(styleAttributes)) {\n",
              "    element.style[key] = styleAttributes[key];\n",
              "  }\n",
              "  return element;\n",
              "}\n",
              "\n",
              "// Max number of bytes which will be uploaded at a time.\n",
              "const MAX_PAYLOAD_SIZE = 100 * 1024;\n",
              "\n",
              "function _uploadFiles(inputId, outputId) {\n",
              "  const steps = uploadFilesStep(inputId, outputId);\n",
              "  const outputElement = document.getElementById(outputId);\n",
              "  // Cache steps on the outputElement to make it available for the next call\n",
              "  // to uploadFilesContinue from Python.\n",
              "  outputElement.steps = steps;\n",
              "\n",
              "  return _uploadFilesContinue(outputId);\n",
              "}\n",
              "\n",
              "// This is roughly an async generator (not supported in the browser yet),\n",
              "// where there are multiple asynchronous steps and the Python side is going\n",
              "// to poll for completion of each step.\n",
              "// This uses a Promise to block the python side on completion of each step,\n",
              "// then passes the result of the previous step as the input to the next step.\n",
              "function _uploadFilesContinue(outputId) {\n",
              "  const outputElement = document.getElementById(outputId);\n",
              "  const steps = outputElement.steps;\n",
              "\n",
              "  const next = steps.next(outputElement.lastPromiseValue);\n",
              "  return Promise.resolve(next.value.promise).then((value) => {\n",
              "    // Cache the last promise value to make it available to the next\n",
              "    // step of the generator.\n",
              "    outputElement.lastPromiseValue = value;\n",
              "    return next.value.response;\n",
              "  });\n",
              "}\n",
              "\n",
              "/**\n",
              " * Generator function which is called between each async step of the upload\n",
              " * process.\n",
              " * @param {string} inputId Element ID of the input file picker element.\n",
              " * @param {string} outputId Element ID of the output display.\n",
              " * @return {!Iterable<!Object>} Iterable of next steps.\n",
              " */\n",
              "function* uploadFilesStep(inputId, outputId) {\n",
              "  const inputElement = document.getElementById(inputId);\n",
              "  inputElement.disabled = false;\n",
              "\n",
              "  const outputElement = document.getElementById(outputId);\n",
              "  outputElement.innerHTML = '';\n",
              "\n",
              "  const pickedPromise = new Promise((resolve) => {\n",
              "    inputElement.addEventListener('change', (e) => {\n",
              "      resolve(e.target.files);\n",
              "    });\n",
              "  });\n",
              "\n",
              "  const cancel = document.createElement('button');\n",
              "  inputElement.parentElement.appendChild(cancel);\n",
              "  cancel.textContent = 'Cancel upload';\n",
              "  const cancelPromise = new Promise((resolve) => {\n",
              "    cancel.onclick = () => {\n",
              "      resolve(null);\n",
              "    };\n",
              "  });\n",
              "\n",
              "  // Wait for the user to pick the files.\n",
              "  const files = yield {\n",
              "    promise: Promise.race([pickedPromise, cancelPromise]),\n",
              "    response: {\n",
              "      action: 'starting',\n",
              "    }\n",
              "  };\n",
              "\n",
              "  cancel.remove();\n",
              "\n",
              "  // Disable the input element since further picks are not allowed.\n",
              "  inputElement.disabled = true;\n",
              "\n",
              "  if (!files) {\n",
              "    return {\n",
              "      response: {\n",
              "        action: 'complete',\n",
              "      }\n",
              "    };\n",
              "  }\n",
              "\n",
              "  for (const file of files) {\n",
              "    const li = document.createElement('li');\n",
              "    li.append(span(file.name, {fontWeight: 'bold'}));\n",
              "    li.append(span(\n",
              "        `(${file.type || 'n/a'}) - ${file.size} bytes, ` +\n",
              "        `last modified: ${\n",
              "            file.lastModifiedDate ? file.lastModifiedDate.toLocaleDateString() :\n",
              "                                    'n/a'} - `));\n",
              "    const percent = span('0% done');\n",
              "    li.appendChild(percent);\n",
              "\n",
              "    outputElement.appendChild(li);\n",
              "\n",
              "    const fileDataPromise = new Promise((resolve) => {\n",
              "      const reader = new FileReader();\n",
              "      reader.onload = (e) => {\n",
              "        resolve(e.target.result);\n",
              "      };\n",
              "      reader.readAsArrayBuffer(file);\n",
              "    });\n",
              "    // Wait for the data to be ready.\n",
              "    let fileData = yield {\n",
              "      promise: fileDataPromise,\n",
              "      response: {\n",
              "        action: 'continue',\n",
              "      }\n",
              "    };\n",
              "\n",
              "    // Use a chunked sending to avoid message size limits. See b/62115660.\n",
              "    let position = 0;\n",
              "    do {\n",
              "      const length = Math.min(fileData.byteLength - position, MAX_PAYLOAD_SIZE);\n",
              "      const chunk = new Uint8Array(fileData, position, length);\n",
              "      position += length;\n",
              "\n",
              "      const base64 = btoa(String.fromCharCode.apply(null, chunk));\n",
              "      yield {\n",
              "        response: {\n",
              "          action: 'append',\n",
              "          file: file.name,\n",
              "          data: base64,\n",
              "        },\n",
              "      };\n",
              "\n",
              "      let percentDone = fileData.byteLength === 0 ?\n",
              "          100 :\n",
              "          Math.round((position / fileData.byteLength) * 100);\n",
              "      percent.textContent = `${percentDone}% done`;\n",
              "\n",
              "    } while (position < fileData.byteLength);\n",
              "  }\n",
              "\n",
              "  // All done.\n",
              "  yield {\n",
              "    response: {\n",
              "      action: 'complete',\n",
              "    }\n",
              "  };\n",
              "}\n",
              "\n",
              "scope.google = scope.google || {};\n",
              "scope.google.colab = scope.google.colab || {};\n",
              "scope.google.colab._files = {\n",
              "  _uploadFiles,\n",
              "  _uploadFilesContinue,\n",
              "};\n",
              "})(self);\n",
              "</script> "
            ]
          },
          "metadata": {}
        },
        {
          "output_type": "stream",
          "name": "stdout",
          "text": [
            "Saving genelist.txt to genelist.txt\n"
          ]
        }
      ]
    },
    {
      "cell_type": "code",
      "source": [
        "uploaded.keys()"
      ],
      "metadata": {
        "colab": {
          "base_uri": "https://localhost:8080/"
        },
        "id": "LlgnpkErQFdK",
        "outputId": "dba6d393-c7cc-457a-8cbd-7e1f0f89cbed"
      },
      "execution_count": null,
      "outputs": [
        {
          "output_type": "execute_result",
          "data": {
            "text/plain": [
              "dict_keys(['genelist.txt'])"
            ]
          },
          "metadata": {},
          "execution_count": 13
        }
      ]
    },
    {
      "cell_type": "code",
      "source": [
        "import pandas as pd\n",
        "\n",
        "# Use the uploaded filename\n",
        "input_file = \"genelist.txt\"\n",
        "\n",
        "try:\n",
        "    df = pd.read_csv(input_file, sep=r\"\\s+\", engine=\"python\")\n",
        "    print(\" File read successfully!\")\n",
        "    print(df.head())\n",
        "except Exception as e:\n",
        "    print(\" An error occurred:\", str(e))"
      ],
      "metadata": {
        "colab": {
          "base_uri": "https://localhost:8080/"
        },
        "id": "OMMGoJ4fQPBr",
        "outputId": "6cc7a8a6-1df9-4cc5-8adf-0d7d02cf047c"
      },
      "execution_count": null,
      "outputs": [
        {
          "output_type": "stream",
          "name": "stdout",
          "text": [
            " File read successfully!\n",
            "    Gene Tissue  Condition  Exp1  Exp2  Exp3\n",
            "0  GeneA  Liver    Control   5.3   4.1   6.2\n",
            "1  GeneB  Heart    Control   7.8   5.4   6.9\n",
            "2  GeneC  Brain  Treatment   6.1   8.5   9.0\n",
            "3  GeneD  Liver  Treatment   4.9   3.6   5.7\n",
            "4  GeneE  Heart    Control   7.3   6.8   8.1\n"
          ]
        }
      ]
    },
    {
      "cell_type": "code",
      "source": [
        "# Ask user for filename\n",
        "output_file = input(\"Enter output CSV filename (e.g., results.csv): \").strip()\n",
        "\n",
        "if not output_file.endswith(\".csv\"):\n",
        "    output_file += \".csv\"\n",
        "\n",
        "df.to_csv(output_file, index=False)\n",
        "print(f\" Data written to {output_file}\")\n",
        "\n",
        "from google.colab import files\n",
        "files.download(output_file)"
      ],
      "metadata": {
        "colab": {
          "base_uri": "https://localhost:8080/",
          "height": 52
        },
        "id": "cfH2rkGSQbUr",
        "outputId": "5ee66cac-02e9-4b30-d032-387777286c48"
      },
      "execution_count": null,
      "outputs": [
        {
          "output_type": "stream",
          "name": "stdout",
          "text": [
            "Enter output CSV filename (e.g., results.csv): genes.csv\n",
            " Data written to genes.csv\n"
          ]
        },
        {
          "output_type": "display_data",
          "data": {
            "text/plain": [
              "<IPython.core.display.Javascript object>"
            ],
            "application/javascript": [
              "\n",
              "    async function download(id, filename, size) {\n",
              "      if (!google.colab.kernel.accessAllowed) {\n",
              "        return;\n",
              "      }\n",
              "      const div = document.createElement('div');\n",
              "      const label = document.createElement('label');\n",
              "      label.textContent = `Downloading \"${filename}\": `;\n",
              "      div.appendChild(label);\n",
              "      const progress = document.createElement('progress');\n",
              "      progress.max = size;\n",
              "      div.appendChild(progress);\n",
              "      document.body.appendChild(div);\n",
              "\n",
              "      const buffers = [];\n",
              "      let downloaded = 0;\n",
              "\n",
              "      const channel = await google.colab.kernel.comms.open(id);\n",
              "      // Send a message to notify the kernel that we're ready.\n",
              "      channel.send({})\n",
              "\n",
              "      for await (const message of channel.messages) {\n",
              "        // Send a message to notify the kernel that we're ready.\n",
              "        channel.send({})\n",
              "        if (message.buffers) {\n",
              "          for (const buffer of message.buffers) {\n",
              "            buffers.push(buffer);\n",
              "            downloaded += buffer.byteLength;\n",
              "            progress.value = downloaded;\n",
              "          }\n",
              "        }\n",
              "      }\n",
              "      const blob = new Blob(buffers, {type: 'application/binary'});\n",
              "      const a = document.createElement('a');\n",
              "      a.href = window.URL.createObjectURL(blob);\n",
              "      a.download = filename;\n",
              "      div.appendChild(a);\n",
              "      a.click();\n",
              "      div.remove();\n",
              "    }\n",
              "  "
            ]
          },
          "metadata": {}
        },
        {
          "output_type": "display_data",
          "data": {
            "text/plain": [
              "<IPython.core.display.Javascript object>"
            ],
            "application/javascript": [
              "download(\"download_bba56612-02a3-49b3-85fd-e925f780b3c1\", \"genes.csv\", 235)"
            ]
          },
          "metadata": {}
        }
      ]
    },
    {
      "cell_type": "code",
      "source": [
        "import pandas as pd\n",
        "\n",
        "df = pd.read_csv(\"genelist.txt\", sep=r\"\\s+\", engine=\"python\")\n",
        "\n",
        "print(\" Original DataFrame:\")\n",
        "print(df)"
      ],
      "metadata": {
        "colab": {
          "base_uri": "https://localhost:8080/"
        },
        "id": "s3FoqnF7RMp3",
        "outputId": "548a1b9f-2f50-4455-a34b-6cea8d00847d"
      },
      "execution_count": null,
      "outputs": [
        {
          "output_type": "stream",
          "name": "stdout",
          "text": [
            " Original DataFrame:\n",
            "    Gene Tissue  Condition  Exp1  Exp2  Exp3\n",
            "0  GeneA  Liver    Control   5.3   4.1   6.2\n",
            "1  GeneB  Heart    Control   7.8   5.4   6.9\n",
            "2  GeneC  Brain  Treatment   6.1   8.5   9.0\n",
            "3  GeneD  Liver  Treatment   4.9   3.6   5.7\n",
            "4  GeneE  Heart    Control   7.3   6.8   8.1\n",
            "5  GeneF  Brain  Treatment   5.5   7.9   8.7\n"
          ]
        }
      ]
    },
    {
      "cell_type": "code",
      "source": [
        "#2.Tranformation\n",
        "df[\"MeanExp\"] = df[[\"Exp1\", \"Exp2\", \"Exp3\"]].mean(axis=1)\n",
        "\n",
        "print(\"\\n Data with Mean Expression column added:\")\n",
        "print(df)\n",
        "\n",
        "#3.Aggregation\n",
        "\n",
        "agg_tissue = df.groupby(\"Tissue\")[\"MeanExp\"].mean().reset_index()\n",
        "\n",
        "print(\"\\n Aggregated Mean Expression per Tissue:\")\n",
        "print(agg_tissue)\n",
        "\n",
        "agg_condition = df.groupby(\"Condition\")[[\"Exp1\",\"Exp2\",\"Exp3\",\"MeanExp\"]].max().reset_index()\n",
        "\n",
        "print(\"\\n Aggregated (Max Expression per Condition):\")\n",
        "print(agg_condition)\n"
      ],
      "metadata": {
        "colab": {
          "base_uri": "https://localhost:8080/"
        },
        "id": "quFX0tv-RROT",
        "outputId": "bc551c98-8f14-4f2a-b9d3-f36b0fa42c1c"
      },
      "execution_count": null,
      "outputs": [
        {
          "output_type": "stream",
          "name": "stdout",
          "text": [
            "\n",
            " Data with Mean Expression column added:\n",
            "    Gene Tissue  Condition  Exp1  Exp2  Exp3   MeanExp\n",
            "0  GeneA  Liver    Control   5.3   4.1   6.2  5.200000\n",
            "1  GeneB  Heart    Control   7.8   5.4   6.9  6.700000\n",
            "2  GeneC  Brain  Treatment   6.1   8.5   9.0  7.866667\n",
            "3  GeneD  Liver  Treatment   4.9   3.6   5.7  4.733333\n",
            "4  GeneE  Heart    Control   7.3   6.8   8.1  7.400000\n",
            "5  GeneF  Brain  Treatment   5.5   7.9   8.7  7.366667\n",
            "\n",
            " Aggregated Mean Expression per Tissue:\n",
            "  Tissue   MeanExp\n",
            "0  Brain  7.616667\n",
            "1  Heart  7.050000\n",
            "2  Liver  4.966667\n",
            "\n",
            " Aggregated (Max Expression per Condition):\n",
            "   Condition  Exp1  Exp2  Exp3   MeanExp\n",
            "0    Control   7.8   6.8   8.1  7.400000\n",
            "1  Treatment   6.1   8.5   9.0  7.866667\n"
          ]
        }
      ]
    },
    {
      "cell_type": "code",
      "source": [
        "import pandas as pd\n",
        "\n",
        "# Create sample data\n",
        "data = {\n",
        "    \"category\": [\"A\", \"B\", \"C\", \"A\", \"B\", \"C\", \"A\", \"B\", \"C\"],\n",
        "    \"sales\": [100, 200, 150, 300, 400, 350, 500, 600, 550],\n",
        "    \"profit\": [10, 20, 15, 25, 35, 30, 40, 50, 45]\n",
        "}\n",
        "\n",
        "# Convert to DataFrame\n",
        "df = pd.DataFrame(data)\n",
        "\n",
        "# Save as CSV inside Colab environment\n",
        "df.to_csv(\"large_file.csv\", index=False)\n",
        "\n",
        "print(\"CSV file created successfully!\")\n"
      ],
      "metadata": {
        "colab": {
          "base_uri": "https://localhost:8080/"
        },
        "id": "8zfg_eue-qhT",
        "outputId": "77a4755f-5015-494e-a3d1-75d06c48aae3"
      },
      "execution_count": null,
      "outputs": [
        {
          "output_type": "stream",
          "name": "stdout",
          "text": [
            "CSV file created successfully!\n"
          ]
        }
      ]
    },
    {
      "cell_type": "code",
      "source": [
        "import pandas as pd\n",
        "\n",
        "def process_large_dataset_pandas():\n",
        "    chunk_results = []\n",
        "    for chunk in pd.read_csv(\"large_file.csv\", chunksize=100000):\n",
        "        processed = chunk.groupby(\"category\").mean()\n",
        "        chunk_results.append(processed)\n",
        "    return pd.concat(chunk_results)\n",
        "\n",
        "# Run the function\n",
        "result = process_large_dataset_pandas()\n",
        "print(result)\n"
      ],
      "metadata": {
        "colab": {
          "base_uri": "https://localhost:8080/"
        },
        "id": "UaldittW_XBX",
        "outputId": "94421381-6532-4c31-e283-48272130d7bc"
      },
      "execution_count": null,
      "outputs": [
        {
          "output_type": "stream",
          "name": "stdout",
          "text": [
            "          sales  profit\n",
            "category               \n",
            "A         300.0    25.0\n",
            "B         400.0    35.0\n",
            "C         350.0    30.0\n"
          ]
        }
      ]
    },
    {
      "cell_type": "code",
      "source": [
        "import argparse\n",
        "import pandas as pd\n",
        "\n",
        "# 1. Setup parser\n",
        "parser = argparse.ArgumentParser(description=\"Process gene expression data\")\n",
        "parser.add_argument(\"input\", help=\"Input CSV file\")\n",
        "parser.add_argument(\"-o\", \"--output\", default=\"results.csv\", help=\"Output CSV file (default: results.csv)\")\n",
        "args = parser.parse_args()\n",
        "\n",
        "# 2. Read data\n",
        "df = pd.read_csv(args.input)\n",
        "\n",
        "# 3. Transform: add MeanExp if Exp1–Exp3 exist\n",
        "if {\"Exp1\", \"Exp2\", \"Exp3\"}.issubset(df.columns):\n",
        "    df[\"MeanExp\"] = df[[\"Exp1\", \"Exp2\", \"Exp3\"]].mean(axis=1)\n",
        "\n",
        "# 4. Save output\n",
        "df.to_csv(args.output, index=False)\n",
        "print(f\"✅ Data written to {args.output}\")\n"
      ],
      "metadata": {
        "id": "rnZxMuoOKtFs"
      },
      "execution_count": null,
      "outputs": []
    },
    {
      "cell_type": "code",
      "source": [
        "import argparse  # Import argparse to handle command-line arguments\n",
        "import pandas as pd  # Import pandas for data manipulation (reading/writing CSV, dataframes)\n",
        "\n",
        "# 1. Setup parser for command-line arguments\n",
        "parser = argparse.ArgumentParser(description=\"Process gene expression data\")\n",
        "# Create an ArgumentParser object with a description of the script\n",
        "\n",
        "# Define a required positional argument \"input\" for the input CSV file\n",
        "parser.add_argument(\"input\", help=\"Input CSV file\")\n",
        "\n",
        "# Define an optional argument \"-o\" or \"--output\" for the output CSV file\n",
        "# Default value is \"results.csv\" if the user does not provide it\n",
        "parser.add_argument(\"-o\", \"--output\", default=\"results.csv\", help=\"Output CSV file (default: results.csv)\")\n",
        "\n",
        "# Parse the arguments provided by the user when running the script\n",
        "args = parser.parse_args()\n",
        "\n",
        "# 2. Read the input CSV file into a pandas DataFrame\n",
        "df = pd.read_csv(args.input)\n",
        "# 'args.input' is the file path provided by the user on the command line\n",
        "\n",
        "# 3. Transform data: calculate the mean expression if columns Exp1, Exp2, and Exp3 exist\n",
        "if {\"Exp1\", \"Exp2\", \"Exp3\"}.issubset(df.columns):\n",
        "    # Check if all three columns are present in the DataFrame\n",
        "    df[\"MeanExp\"] = df[[\"Exp1\", \"Exp2\", \"Exp3\"]].mean(axis=1)\n",
        "    # Calculate the mean across the three columns for each row\n",
        "    # axis=1 ensures row-wise operation\n",
        "    # Store the result in a new column \"MeanExp\"\n",
        "\n",
        "# 4. Save the processed DataFrame to a CSV file\n",
        "df.to_csv(args.output, index=False)\n",
        "# index=False prevents pandas from writing row numbers into the CSV\n",
        "\n",
        "# Print a confirmation message\n",
        "print(f\" Data written to {args.output}\")\n",
        "# f-string is used to include the output filename dynamically\n"
      ],
      "metadata": {
        "id": "T7xtIBrhLttv"
      },
      "execution_count": null,
      "outputs": []
    }
  ]
}